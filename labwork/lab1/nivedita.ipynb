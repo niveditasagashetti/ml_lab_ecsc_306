{
 "cells": [
  {
   "cell_type": "code",
   "execution_count": 29,
   "metadata": {},
   "outputs": [
    {
     "name": "stdout",
     "output_type": "stream",
     "text": [
      "Tensor(\"Const_30:0\", shape=(4,), dtype=float32)\n",
      "Tensor(\"Const_31:0\", shape=(5,), dtype=float32)\n",
      "[ 1.20000005  1.39999998  1.5         1.60000002]\n",
      "[ 3.29999995  4.30000019  7.69999981  3.          4.        ]\n",
      "1.425\n",
      "4.46\n",
      "(1.425, 0.021874996)\n"
     ]
    }
   ],
   "source": [
    "## 1) read two arrays x,y containing floting point values..........\n",
    "import tensorflow as tf\n",
    "x=tf.constant([1.2,1.4,1.5,1.6])\n",
    "y=tf.constant([3.3,4.3,7.7,3,4])\n",
    "print(x)\n",
    "print(y)\n",
    "\n",
    "\n",
    "## 2)  calculate mean x and y...................\n",
    "mean_x=tf.reduce_mean(x)\n",
    "mean_y=tf.reduce_mean(y)\n",
    "\n",
    "\n",
    "## 3) calculate variance of for x....................\n",
    "\n",
    "variance =tf.nn.moments(x,0)\n",
    "with tf.Session() as sess:\n",
    "    #writer = tf.summary.FileWriter(\"/tmp/tboard/oo7\", sess.graph)\n",
    "    print(sess.run(x))\n",
    "    print(sess.run(y))\n",
    "    print(sess.run(mean_x))\n",
    "    print(sess.run(mean_y))\n",
    "    print(sess.run(variance))\n",
    "     #writer.close()\n",
    " ## calculate covariance of x and y................       \n",
    "    \n",
    " ##calculate value of m...........\n",
    "\n",
    "## "
   ]
  },
  {
   "cell_type": "raw",
   "metadata": {},
   "source": [
    "#writer = tf.summary.FileWriter(\"/tmp/tboard/oo7\", sess.graph"
   ]
  },
  {
   "cell_type": "code",
   "execution_count": null,
   "metadata": {},
   "outputs": [],
   "source": []
  },
  {
   "cell_type": "code",
   "execution_count": null,
   "metadata": {
    "collapsed": true
   },
   "outputs": [],
   "source": []
  }
 ],
 "metadata": {
  "kernelspec": {
   "display_name": "Python 3",
   "language": "python",
   "name": "python3"
  },
  "language_info": {
   "codemirror_mode": {
    "name": "ipython",
    "version": 3
   },
   "file_extension": ".py",
   "mimetype": "text/x-python",
   "name": "python",
   "nbconvert_exporter": "python",
   "pygments_lexer": "ipython3",
   "version": "3.6.1"
  }
 },
 "nbformat": 4,
 "nbformat_minor": 2
}
